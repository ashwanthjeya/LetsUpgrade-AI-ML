{
 "cells": [
  {
   "cell_type": "markdown",
   "metadata": {},
   "source": [
    "## Ques1. Write a program to subtract two Complex Number "
   ]
  },
  {
   "cell_type": "code",
   "execution_count": 1,
   "metadata": {},
   "outputs": [
    {
     "name": "stdout",
     "output_type": "stream",
     "text": [
      "After subtracting two complex Number \n",
      "Result = (2-2j)\n"
     ]
    }
   ],
   "source": [
    "# Pre-defined Number :\n",
    "number1 = 5+2j\n",
    "number2 = 3+4j\n",
    "result = number1 - number2\n",
    "print(\"After subtracting two complex Number \\nResult =\",result)"
   ]
  },
  {
   "cell_type": "code",
   "execution_count": 2,
   "metadata": {},
   "outputs": [
    {
     "name": "stdout",
     "output_type": "stream",
     "text": [
      "Enter a Complex Number: 5+2j\n",
      "Enter another Complex Number: 3+4j\n",
      "After subtracting two complex Number \n",
      "Result = (2-2j)\n"
     ]
    }
   ],
   "source": [
    "# Input Number from User :\n",
    "number1 = complex(input('Enter a Complex Number: '))\n",
    "number2 = complex(input('Enter another Complex Number: '))\n",
    "result = number1 - number2\n",
    "print(\"After subtracting two complex Number \\nResult =\",result)"
   ]
  },
  {
   "cell_type": "markdown",
   "metadata": {},
   "source": [
    "## Ques 2. Write a Program to find the fourth root of a number"
   ]
  },
  {
   "cell_type": "code",
   "execution_count": 3,
   "metadata": {},
   "outputs": [
    {
     "name": "stdout",
     "output_type": "stream",
     "text": [
      "The fourth root of the Number is  2.0\n"
     ]
    }
   ],
   "source": [
    "# Pre-defined Number :\n",
    "rootno = 16\n",
    "result2 = rootno ** (1/4)\n",
    "print(\"The fourth root of the Number is \",result2)"
   ]
  },
  {
   "cell_type": "code",
   "execution_count": 4,
   "metadata": {},
   "outputs": [
    {
     "name": "stdout",
     "output_type": "stream",
     "text": [
      "Enter a Number: 89\n",
      "The fourth root of the Number is 3.0714786556407327\n"
     ]
    }
   ],
   "source": [
    "# Input Number from User :\n",
    "rootno = int(input('Enter a Number: '))\n",
    "result2 = rootno ** (1/4)\n",
    "print(\"The fourth root of the Number is\",result2)"
   ]
  },
  {
   "cell_type": "markdown",
   "metadata": {},
   "source": [
    "## Ques3. Write a program to swap two number (with help of Temporary Variable)"
   ]
  },
  {
   "cell_type": "code",
   "execution_count": 5,
   "metadata": {},
   "outputs": [
    {
     "name": "stdout",
     "output_type": "stream",
     "text": [
      "Before Swaping:  5 19\n",
      "After Swapping:  19 5\n"
     ]
    }
   ],
   "source": [
    "# Pre-Defined Inputs\n",
    "n1 = 5\n",
    "n2 = 19\n",
    "print(\"Before Swaping: \",n1,n2)\n",
    "temp = n1\n",
    "n1 = n2\n",
    "n2 = temp\n",
    "print(\"After Swapping: \",n1,n2)"
   ]
  },
  {
   "cell_type": "code",
   "execution_count": 6,
   "metadata": {},
   "outputs": [
    {
     "name": "stdout",
     "output_type": "stream",
     "text": [
      "Enter First Number: 34\n",
      "Enter Second Number: 67\n",
      "Before Swaping:  34 67\n",
      "After Swapping:  67 34\n"
     ]
    }
   ],
   "source": [
    "# Input from User :\n",
    "n1 = int(input('Enter First Number: '))\n",
    "n2 = int(input('Enter Second Number: '))\n",
    "print(\"Before Swaping: \",n1,n2)\n",
    "temp = n1\n",
    "n1 = n2\n",
    "n2 = temp\n",
    "print(\"After Swapping: \",n1,n2)"
   ]
  },
  {
   "cell_type": "markdown",
   "metadata": {},
   "source": [
    "## Ques4. Write a program to swap two number (without help of Temporary Variable)"
   ]
  },
  {
   "cell_type": "code",
   "execution_count": 7,
   "metadata": {},
   "outputs": [
    {
     "name": "stdout",
     "output_type": "stream",
     "text": [
      "Before Swaping:  23 34\n",
      "After Swaping:  34 23\n"
     ]
    }
   ],
   "source": [
    "# Pre-defined Inputs\n",
    "no1 = 23\n",
    "no2 = 34\n",
    "print(\"Before Swaping: \",no1,no2)\n",
    "no1,no2 = no2,no1\n",
    "print(\"After Swaping: \",no1,no2)"
   ]
  },
  {
   "cell_type": "code",
   "execution_count": 8,
   "metadata": {},
   "outputs": [
    {
     "name": "stdout",
     "output_type": "stream",
     "text": [
      "Enter First Number: 456\n",
      "Enter Second Number: 67\n",
      "Before Swaping:  456 67\n",
      "After Swaping:  67 456\n"
     ]
    }
   ],
   "source": [
    "# Input from User \n",
    "no1 = int(input('Enter First Number: '))\n",
    "no2 = int(input('Enter Second Number: '))\n",
    "print(\"Before Swaping: \",no1,no2)\n",
    "no1,no2 = no2,no1\n",
    "print(\"After Swaping: \",no1,no2)"
   ]
  },
  {
   "cell_type": "markdown",
   "metadata": {},
   "source": [
    "## Ques5. Write a program to convert Fahrenheit to kelvin and Celsius"
   ]
  },
  {
   "cell_type": "code",
   "execution_count": 9,
   "metadata": {},
   "outputs": [
    {
     "name": "stdout",
     "output_type": "stream",
     "text": [
      "32 degree Fahrenheit is 0.0 degree Celsius\n",
      "32 degree Fahrenheit is 273.15 Kelvin\n"
     ]
    }
   ],
   "source": [
    "# Pre-defined inputs : \n",
    "fahrenheit = 32\n",
    "celsius = (fahrenheit - 32) * 5/9\n",
    "print(\"{} degree Fahrenheit is {} degree Celsius\".format(fahrenheit,celsius))\n",
    "kelvin = celsius + 273.15\n",
    "print(\"{} degree Fahrenheit is {} Kelvin\".format(fahrenheit,kelvin))"
   ]
  },
  {
   "cell_type": "code",
   "execution_count": 10,
   "metadata": {},
   "outputs": [
    {
     "name": "stdout",
     "output_type": "stream",
     "text": [
      "Enter degree Fahrenheit: 32\n",
      "32 degree Fahrenheit is 0.0 degree Celsius\n",
      "32 degree Fahrenheit is 273.15 Kelvin\n"
     ]
    }
   ],
   "source": [
    "# User-Defined Input\n",
    "fahrenheit = int(input(\"Enter degree Fahrenheit: \"))\n",
    "celsius = (fahrenheit - 32) * 5/9\n",
    "print(\"{} degree Fahrenheit is {} degree Celsius\".format(fahrenheit,celsius))\n",
    "kelvin = celsius + 273.15\n",
    "print(\"{} degree Fahrenheit is {} Kelvin\".format(fahrenheit,kelvin))"
   ]
  },
  {
   "cell_type": "markdown",
   "metadata": {},
   "source": [
    "## Ques6. Write a program to demonstrate all the available datatypes in python"
   ]
  },
  {
   "cell_type": "code",
   "execution_count": 11,
   "metadata": {},
   "outputs": [
    {
     "name": "stdout",
     "output_type": "stream",
     "text": [
      "Datatypes:\n",
      "<class 'int'>\n",
      "<class 'str'>\n",
      "<class 'float'>\n",
      "<class 'tuple'>\n",
      "<class 'list'>\n",
      "<class 'dict'>\n",
      "<class 'complex'>\n",
      "<class 'bool'>\n"
     ]
    }
   ],
   "source": [
    "a = type(12)\n",
    "b = type('hello')\n",
    "c = type(34.00)\n",
    "d = type((124,))\n",
    "e = type([1, 4, 6])\n",
    "f = type({'name':'Riya','age':19})\n",
    "g = type(5+3j)\n",
    "h = type(True)\n",
    "\n",
    "print(\"Datatypes:\\n{}\\n{}\\n{}\\n{}\\n{}\\n{}\\n{}\\n{}\".format(a,b,c,d,e,f,g,h))"
   ]
  },
  {
   "cell_type": "markdown",
   "metadata": {},
   "source": [
    "## Solution7. Steps for creating Github Profile and  Uploading Assignment Link\n",
    "<hr>\n",
    "\n",
    "* Sign-up for Github or if you already had the Account then Sign-In\n",
    "* Create a New Reprository \n",
    "* Name the reprository LetsUpgrade AI/ML\n",
    "* Write the description for it ( Example : Assignments of LetsUpgrade)\n",
    "\n",
    "#### Note :----- Donot Create Private one ( Create Public Reprository )\n",
    "\n",
    "* After Creating the Reprository , Upload the Exising file/Folder (Make a folder of All the day Assignments with the .ipynb notebooks )\n",
    "* Go to the solution file ( .ipynb) and copy the link in url \n",
    "* Paste that link in the Assignment and Submit "
   ]
  },
  {
   "cell_type": "code",
   "execution_count": null,
   "metadata": {},
   "outputs": [],
   "source": []
  }
 ],
 "metadata": {
  "kernelspec": {
   "display_name": "Python 3",
   "language": "python",
   "name": "python3"
  },
  "language_info": {
   "codemirror_mode": {
    "name": "ipython",
    "version": 3
   },
   "file_extension": ".py",
   "mimetype": "text/x-python",
   "name": "python",
   "nbconvert_exporter": "python",
   "pygments_lexer": "ipython3",
   "version": "3.7.6"
  }
 },
 "nbformat": 4,
 "nbformat_minor": 4
}
