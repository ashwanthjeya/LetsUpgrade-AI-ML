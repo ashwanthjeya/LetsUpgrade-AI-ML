{
 "cells": [
  {
   "cell_type": "markdown",
   "metadata": {},
   "source": [
    "# Solution 1. Implementing the Operations on Complex Number"
   ]
  },
  {
   "cell_type": "code",
   "execution_count": 2,
   "metadata": {},
   "outputs": [
    {
     "name": "stdout",
     "output_type": "stream",
     "text": [
      "Enter the first Complex Number: 2+3j\n",
      "Enter the other Complex Number: 1+2j\n",
      "\n",
      "The real part of complex number is : 2.0\n",
      "The complex part of complex number is : 3.0\n",
      "\n",
      "The real part of complex number is : 1.0\n",
      "The complex part of complex number is : 2.0\n",
      "\n",
      "The result after Addition of the Two Complex Number is (3+5j)\n",
      "The result after Substraction of the Two Complex Number is (1+1j)\n",
      "The result after Multiplication of the Two Complex Number is (-4+7j)\n",
      "The result after Division of the Two Complex Number is (1.6-0.2j)\n"
     ]
    }
   ],
   "source": [
    "number1 = complex(input(\"Enter the first Complex Number: \"))\n",
    "number2 = complex(input(\"Enter the other Complex Number: \"))\n",
    "\n",
    "print(\"\\nThe real part of complex number is :\", number1.real)\n",
    "print(\"The complex part of complex number is :\", number1.imag)\n",
    "\n",
    "print(\"\\nThe real part of complex number is :\", number2.real)\n",
    "print(\"The complex part of complex number is :\", number2.imag)\n",
    "\n",
    "# Performing Operations on Complex Number :\n",
    "\n",
    "add = number1 + number2   # Performing Addition\n",
    "sub = number1 - number2   # Performing Substraction\n",
    "mul = number1 * number2   # Performing Multiplication\n",
    "div = number1 / number2   # Performing Division\n",
    "\n",
    "# mod = number1 % number2\n",
    "# floor_div = number1 // number2\n",
    "\n",
    "print(\"\\nThe result after Addition of the Two Complex Number is\", add)\n",
    "print(\"The result after Substraction of the Two Complex Number is\", sub)\n",
    "print(\"The result after Multiplication of the Two Complex Number is\", mul)\n",
    "print(\"The result after Division of the Two Complex Number is\", div)"
   ]
  },
  {
   "cell_type": "markdown",
   "metadata": {},
   "source": [
    "#### The Modulo and Floor-Division can't be performed on the Complex Number "
   ]
  },
  {
   "cell_type": "markdown",
   "metadata": {},
   "source": [
    "# Solution 2. Implementing range() function \n",
    "<hr>\n",
    "\n",
    "**range(start, stop, Step)**\n",
    "\n",
    "* It is inbuilt python Function\n",
    "* It requires 3 parameters : Start, Stop, Step\n",
    "\n",
    "where,\n",
    "\n",
    "**Start parameter** is optional to give ( if you dont give start value it will start from *0* ie the Default value is 0)\n",
    "\n",
    "**Stop parameter** is required to give ( it means it will start from 0 but donot have any end value where to end , so it is necessary to give stop value ) -- \n",
    "\n",
    "**Note:** The Stop value doesnt include last value ie. if you give range(6): it means the loop will go from 0 to 5 (it doesnt include 6) **the loop goes from 0 to n-1**\n",
    "\n",
    "**Step parameter** It is optional to give ( its Default Value is 1) it means that by what value you want ypur loop to increment\n",
    "for example : range(1,6,2): the loop starts from 1 and goes till 5 and output would be : 1 3 5 \n"
   ]
  },
  {
   "cell_type": "code",
   "execution_count": 3,
   "metadata": {},
   "outputs": [
    {
     "name": "stdout",
     "output_type": "stream",
     "text": [
      "1\n",
      "3\n",
      "5\n",
      "7\n",
      "9\n",
      "11\n",
      "13\n",
      "15\n",
      "17\n",
      "19\n"
     ]
    }
   ],
   "source": [
    "# Implementing Code \n",
    "\n",
    "for i in range(1,20,2):\n",
    "    print(i)\n",
    "    \n",
    "# Here the loop starts from 1 and ends at 19( n-1 ) and the incrementing value is 2    "
   ]
  },
  {
   "cell_type": "markdown",
   "metadata": {},
   "source": [
    "# Solution 3."
   ]
  },
  {
   "cell_type": "code",
   "execution_count": 4,
   "metadata": {},
   "outputs": [
    {
     "name": "stdout",
     "output_type": "stream",
     "text": [
      "Enter a Number: 23\n",
      "Enter another Number: 4\n",
      "Their Division result when result of their substraction is less than 25 5.75\n"
     ]
    }
   ],
   "source": [
    "num1 = int(input(\"Enter a Number: \"))\n",
    "num2 = int(input(\"Enter another Number: \"))\n",
    "\n",
    "result = num1 - num2 \n",
    "if result > 25:\n",
    "    print(\"Their Multiplication result when result of their substraction is greater than 25\",num1 * num2)\n",
    "else:\n",
    "    print(\"Their Division result when result of their substraction is less than 25\",num1 / num2)"
   ]
  },
  {
   "cell_type": "markdown",
   "metadata": {},
   "source": [
    "# Solution 4."
   ]
  },
  {
   "cell_type": "code",
   "execution_count": 5,
   "metadata": {},
   "outputs": [
    {
     "name": "stdout",
     "output_type": "stream",
     "text": [
      "Length of list: 10\n",
      "Printing Sqaure of Number minus 2 when it is divisible by 2:\n",
      "3134\n",
      "1154\n",
      "8098\n",
      "2\n",
      "98\n"
     ]
    }
   ],
   "source": [
    "l1 = [23,56,87,34,90,57,67,89,2,10]\n",
    "\n",
    "print(\"Length of list:\",len(l1))\n",
    "print(\"Printing Sqaure of Number minus 2 when it is divisible by 2:\")\n",
    "for i in l1:\n",
    "    if i%2 == 0 :\n",
    "        print((i**2) - 2)"
   ]
  },
  {
   "cell_type": "markdown",
   "metadata": {},
   "source": [
    "# Solution 5."
   ]
  },
  {
   "cell_type": "code",
   "execution_count": 6,
   "metadata": {},
   "outputs": [
    {
     "name": "stdout",
     "output_type": "stream",
     "text": [
      "Length of list: 10\n",
      "Printing Number which is greater than 7 when number is divided by 2:\n",
      "76\n",
      "98\n",
      "20\n",
      "78\n",
      "40\n",
      "90\n",
      "10\n"
     ]
    }
   ],
   "source": [
    "l2 = [23,76,98,45,20,78,9,40,90,10]\n",
    "\n",
    "print(\"Length of list:\",len(l2))\n",
    "print(\"Printing Number which is greater than 7 when number is divided by 2:\")\n",
    "for number in l2:\n",
    "    if (number >7) & (number % 2 == 0):\n",
    "        print(number)"
   ]
  },
  {
   "cell_type": "code",
   "execution_count": null,
   "metadata": {},
   "outputs": [],
   "source": []
  }
 ],
 "metadata": {
  "kernelspec": {
   "display_name": "Python 3",
   "language": "python",
   "name": "python3"
  },
  "language_info": {
   "codemirror_mode": {
    "name": "ipython",
    "version": 3
   },
   "file_extension": ".py",
   "mimetype": "text/x-python",
   "name": "python",
   "nbconvert_exporter": "python",
   "pygments_lexer": "ipython3",
   "version": "3.7.6"
  }
 },
 "nbformat": 4,
 "nbformat_minor": 4
}
