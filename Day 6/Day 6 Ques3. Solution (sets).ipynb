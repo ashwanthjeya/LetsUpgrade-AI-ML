{
 "cells": [
  {
   "cell_type": "markdown",
   "metadata": {},
   "source": [
    "<h2 align='center'> Ques3. Create own jupyter notebook for Sets </h2>\n",
    "<hr>\n",
    "\n",
    "# Sets"
   ]
  },
  {
   "cell_type": "markdown",
   "metadata": {},
   "source": [
    "* A set is a collection which is unordered and unindexed\n",
    "* Just like dictionary It is also written in Curly Braces { } "
   ]
  },
  {
   "cell_type": "markdown",
   "metadata": {},
   "source": [
    "### 1.  Acessing Item \n",
    "\n",
    "* As we cannot access items in a set by referring to an index, since sets are unordered the items has no index \n",
    "* We can access the element in a set by using for loop\n",
    "* Sets are unordered, so We cannot be sure in which order the items will appear."
   ]
  },
  {
   "cell_type": "code",
   "execution_count": 1,
   "metadata": {},
   "outputs": [
    {
     "name": "stdout",
     "output_type": "stream",
     "text": [
      "color\n",
      "love\n",
      "black\n",
      "riya\n"
     ]
    }
   ],
   "source": [
    "items = {'riya','love','black','color'}\n",
    "for i in items:\n",
    "    print(i)"
   ]
  },
  {
   "cell_type": "markdown",
   "metadata": {},
   "source": [
    "### 2. Change Item\n",
    "* Just like Tuple , Once a set is created, you cannot change its items.\n",
    "* But we can add new items \n",
    "<hr>\n",
    "\n",
    "### Adding New item \n",
    "* For **adding single item** to a set use the **add()** method.\n",
    "\n",
    "* For **adding more than one item** to a set use the **update()** method."
   ]
  },
  {
   "cell_type": "code",
   "execution_count": 2,
   "metadata": {},
   "outputs": [
    {
     "name": "stdout",
     "output_type": "stream",
     "text": [
      "SET is:  {'color', 'love', 'black', 'riya'}\n",
      "Single element added by using add fnction:  {'color', 'black', 'and', 'love', 'riya'}\n",
      "Multiple elements are added by using update fnction:  {'color', 'black', 'and', 'hates', 'love', 'colors', 'riya', 'pink'}\n"
     ]
    }
   ],
   "source": [
    "items = {'riya','love','black','color'}\n",
    "print('SET is: ',items)\n",
    "\n",
    "# add( ) method :\n",
    "items.add('and')\n",
    "print('Single element added by using add fnction: ', items)\n",
    "\n",
    "# update( ) method : \n",
    "items.update(['hates','pink','colors'])\n",
    "print('Multiple elements are added by using update fnction: ', items)"
   ]
  },
  {
   "cell_type": "markdown",
   "metadata": {},
   "source": [
    "### Methods of Set :\n",
    "* len()\n",
    "* remove()\n",
    "* clear()\n",
    "* pop()\n",
    "* discard()\n",
    "* add()\n",
    "* update()\n",
    "* copy()\n",
    "* difference()\n",
    "* union()\n",
    "* intersection()\n",
    "* symmetric difference()\n",
    "... Etc"
   ]
  },
  {
   "cell_type": "code",
   "execution_count": 3,
   "metadata": {},
   "outputs": [
    {
     "name": "stdout",
     "output_type": "stream",
     "text": [
      "SET1:  {'color', 'black', 'and', 'hates', 'colors', 'love', 'riya', 'pink'}\n",
      "SET2:  {'have', 'dont', 'any', 'in', 'colors', 'life', 'riya'}\n",
      "Length of Set1:  8\n",
      "Length of Set2:  7\n"
     ]
    }
   ],
   "source": [
    "set1 = {'black', 'colors', 'riya', 'pink', 'color', 'hates', 'love', 'and'}\n",
    "set2 = {'riya','dont','have','any','colors','in','life'}\n",
    "print('SET1: ',set1)\n",
    "print('SET2: ',set2)\n",
    "print('Length of Set1: ',len(set1))\n",
    "print('Length of Set2: ', len(set2))"
   ]
  },
  {
   "cell_type": "code",
   "execution_count": 4,
   "metadata": {},
   "outputs": [
    {
     "name": "stdout",
     "output_type": "stream",
     "text": [
      "Removing one element from set1: \n",
      "After removing SET1 is:  {'color', 'black', 'hates', 'colors', 'love', 'riya', 'pink'}\n"
     ]
    }
   ],
   "source": [
    "print('Removing one element from set1: ')\n",
    "set1.remove('and')\n",
    "print('After removing SET1 is: ',set1)"
   ]
  },
  {
   "cell_type": "markdown",
   "metadata": {},
   "source": [
    "* To **remove an item** in a set, you can use **remove() or discard()**\n",
    "* If you use **remove( )** if the item is not in a set , It will **raise an error** .\n",
    "* If you use **discard( )**  if the item is not in a set , It will **not raise an error** .\n"
   ]
  },
  {
   "cell_type": "code",
   "execution_count": 5,
   "metadata": {},
   "outputs": [
    {
     "name": "stdout",
     "output_type": "stream",
     "text": [
      "SET3:  {'apple', 'mango', 'banana', 'cherry'}\n",
      "Clearing a set: set()\n"
     ]
    }
   ],
   "source": [
    "set3 = {'apple','banana','cherry','mango'}\n",
    "print(\"SET3: \", set3)\n",
    "set3.clear()\n",
    "print('Clearing a set:',set3)"
   ]
  },
  {
   "cell_type": "code",
   "execution_count": 6,
   "metadata": {},
   "outputs": [
    {
     "name": "stdout",
     "output_type": "stream",
     "text": [
      "Deleting set3:\n",
      "Set Deleted Succesfully\n"
     ]
    }
   ],
   "source": [
    "print('Deleting set3:')\n",
    "del set3\n",
    "print('Set Deleted Succesfully')"
   ]
  },
  {
   "cell_type": "code",
   "execution_count": 7,
   "metadata": {},
   "outputs": [
    {
     "name": "stdout",
     "output_type": "stream",
     "text": [
      "Join two sets: SET1 and SET2:\n",
      "SET1:  {'color', 'black', 'hates', 'colors', 'love', 'riya', 'pink'}\n",
      "SET2:  {'have', 'dont', 'any', 'in', 'colors', 'life', 'riya'}\n",
      "After joining two sets:  {'color', 'black', 'have', 'dont', 'hates', 'any', 'in', 'colors', 'love', 'life', 'riya', 'pink'}\n"
     ]
    }
   ],
   "source": [
    "print('Join two sets: SET1 and SET2:')\n",
    "print('SET1: ',set1)\n",
    "print('SET2: ',set2)\n",
    "set3 = set1.union(set2)\n",
    "print('After joining two sets: ', set3)"
   ]
  },
  {
   "cell_type": "markdown",
   "metadata": {},
   "source": [
    "* In a set , No repetiton is allowed (exclude any duplicate items)"
   ]
  },
  {
   "cell_type": "code",
   "execution_count": 8,
   "metadata": {},
   "outputs": [
    {
     "name": "stdout",
     "output_type": "stream",
     "text": [
      "Checking the Common/Duplicate Items: \n",
      "Intersection of sets: {'colors', 'riya'}\n"
     ]
    }
   ],
   "source": [
    "print('Checking the Common/Duplicate Items: ')\n",
    "seta = set1.intersection(set2)\n",
    "print('Intersection of sets:', seta)"
   ]
  },
  {
   "cell_type": "code",
   "execution_count": null,
   "metadata": {},
   "outputs": [],
   "source": []
  }
 ],
 "metadata": {
  "kernelspec": {
   "display_name": "Python 3",
   "language": "python",
   "name": "python3"
  },
  "language_info": {
   "codemirror_mode": {
    "name": "ipython",
    "version": 3
   },
   "file_extension": ".py",
   "mimetype": "text/x-python",
   "name": "python",
   "nbconvert_exporter": "python",
   "pygments_lexer": "ipython3",
   "version": "3.7.6"
  }
 },
 "nbformat": 4,
 "nbformat_minor": 4
}
