{
 "cells": [
  {
   "cell_type": "markdown",
   "metadata": {},
   "source": [
    "# Ques1. Write a Program to print Company name of a given email address (\"username@compnayname.com\")\n",
    "\n",
    "Assuming that we have some email addresses in the \"username@companyname.com\" format, please write program\n",
    "to print the company name of a given email address. Both user names and company names are composed of letters\n",
    "only.\n",
    "\n",
    "**Input Format:\n",
    "The first line of the input contains an email address.**\n",
    "\n",
    "**Output Format:\n",
    "Print the company name in single line.**\n",
    "\n",
    "**Example:**\n",
    "\n",
    "**Input:**\n",
    "john@google.com\n",
    "\n",
    "**Output:**\n",
    "google\n"
   ]
  },
  {
   "cell_type": "code",
   "execution_count": 1,
   "metadata": {},
   "outputs": [
    {
     "name": "stdout",
     "output_type": "stream",
     "text": [
      "Enter the email address: john@google.com\n",
      "Company name:  google\n"
     ]
    }
   ],
   "source": [
    "def find_companyname(x):\n",
    "    name = x.split('@')[1].split('.')[0]\n",
    "    print(\"Company name: \",name)\n",
    "    \n",
    "email = input(\"Enter the email address: \")\n",
    "find_companyname(email)"
   ]
  },
  {
   "cell_type": "markdown",
   "metadata": {},
   "source": [
    "# Ques2. Write a program that accepts a comma-separated sequence of words as input and prints the words in a comma separated sequence after sorting them alphabetically.\n",
    "\n",
    "**Input Format:\n",
    "The first line of input contains words separated by the comma.**\n",
    "\n",
    "**Output Format:\n",
    "Print the sorted words separated by the comma.**\n",
    "\n",
    "**Example:**\n",
    "\n",
    "**Input:**\n",
    "without,hello,bag,world\n",
    "\n",
    "**Output:**\n",
    "bag,hello,without,world"
   ]
  },
  {
   "cell_type": "code",
   "execution_count": 2,
   "metadata": {},
   "outputs": [
    {
     "name": "stdout",
     "output_type": "stream",
     "text": [
      "Enter comma seperated words: without,hello,bag,world\n",
      "Sorted comma seperated sequence:  bag,hello,without,world\n"
     ]
    }
   ],
   "source": [
    "def sorted_words(y):\n",
    "    y = y.split(',') \n",
    "    y = sorted(y)\n",
    "    print(\"Sorted comma seperated sequence: \", ','.join(y))\n",
    "    \n",
    "words = input('Enter comma seperated words: ')\n",
    "sorted_words(words)"
   ]
  },
  {
   "cell_type": "markdown",
   "metadata": {},
   "source": [
    "# Ques3. Create your own Jupyter Notebook for Sets"
   ]
  },
  {
   "cell_type": "markdown",
   "metadata": {},
   "source": [
    "http://localhost:8888/notebooks/Desktop/LetsUpgrade/Assignments/Day%206/Day%206%20Ques3.%20Solution%20(sets).ipynb"
   ]
  },
  {
   "cell_type": "markdown",
   "metadata": {},
   "source": [
    "# Ques4. Given a list of n-1 numbers ranging from 1 to n, your task is to find the missing number. There are no duplicates.\n",
    "\n",
    "**Input Format:\n",
    "The first line contains n-1 numbers with each number separated by a space.**\n",
    "\n",
    "**Output Format:\n",
    "Print the missing number**\n",
    "\n",
    "**Example:**\n",
    "\n",
    "**Input:**\n",
    "1 2 4 6 3 7 8\n",
    "\n",
    "**Output:**\n",
    "5\n"
   ]
  },
  {
   "cell_type": "code",
   "execution_count": 3,
   "metadata": {},
   "outputs": [
    {
     "name": "stdout",
     "output_type": "stream",
     "text": [
      "Enter your list: 1 2 4 6 3 7 8\n",
      "Misisng value:  5\n"
     ]
    }
   ],
   "source": [
    "def mising_number(b):\n",
    "    list1 = b.split(' ')  # Spliting string values to list \n",
    "    list1 = [int(i) for i in list1]  # Converting string values to int\n",
    "    list1 = sorted(list1)  # Sort the list \n",
    "    set2 = {x for x in range(1, list1[-1])} \n",
    "            # make a set for 1 to n-1 from the sorted list, taking the nth number entered by user .\n",
    "    set1 = set(list1)     # make set of user list \n",
    "    diff = set2 - set1        # Finding the diffrence of sets (set of n elemnts - set of user entered list)\n",
    "    diff = list(map(str, diff))     # Converting back the list of int to List of string\n",
    "    print('Misisng value: ', ' '.join(diff))    # printing missing value in the same format as entered by user \n",
    "    \n",
    "user_list = input('Enter your list: ')\n",
    "mising_number(user_list)"
   ]
  },
  {
   "cell_type": "markdown",
   "metadata": {},
   "source": [
    "# Ques5. With a given list L, write a program to print this list L after removing all duplicate values with original order reserved.\n",
    "\n",
    "**Example:**\n",
    "\n",
    "**Input list**\n",
    "12 24 35 24 88 120 155 88 120 155\n",
    "\n",
    "**Output**\n",
    "12 24 35 88 120 155\n"
   ]
  },
  {
   "cell_type": "code",
   "execution_count": 4,
   "metadata": {},
   "outputs": [
    {
     "name": "stdout",
     "output_type": "stream",
     "text": [
      "Enter elements of a list: 12 24 35 24 88 120 155 88 120 155\n",
      "After Removing all duplicate values:  12 24 35 88 120 155\n"
     ]
    }
   ],
   "source": [
    "def remove_duplicate(z):\n",
    "    lst = input_list.split(' ')\n",
    "    lst = [int(x) for x in lst]\n",
    "    lst = sorted(set(lst))\n",
    "    lst = list(map(str, lst))\n",
    "    print(\"After Removing all duplicate values: \",' '.join(lst))\n",
    "    \n",
    "input_list = input('Enter elements of a list: ')\n",
    "remove_duplicate(input_list)"
   ]
  },
  {
   "cell_type": "code",
   "execution_count": null,
   "metadata": {},
   "outputs": [],
   "source": []
  }
 ],
 "metadata": {
  "kernelspec": {
   "display_name": "Python 3",
   "language": "python",
   "name": "python3"
  },
  "language_info": {
   "codemirror_mode": {
    "name": "ipython",
    "version": 3
   },
   "file_extension": ".py",
   "mimetype": "text/x-python",
   "name": "python",
   "nbconvert_exporter": "python",
   "pygments_lexer": "ipython3",
   "version": "3.7.6"
  }
 },
 "nbformat": 4,
 "nbformat_minor": 4
}
